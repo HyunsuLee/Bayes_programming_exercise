{
 "cells": [
  {
   "cell_type": "markdown",
   "metadata": {},
   "source": [
    "# 2.1. Introduction of Chapter 2\n",
    "\n",
    "## 2.1.1. 부모와 자식 관계"
   ]
  },
  {
   "cell_type": "code",
   "execution_count": 4,
   "metadata": {},
   "outputs": [],
   "source": [
    "import pymc3 as pm\n",
    "import matplotlib\n",
    "matplotlib.rc('font', family = 'Malgun Gothic')\n",
    "\n",
    "with pm.Model() as model:\n",
    "    parameter = pm.Exponential(\"poisson_param\", 1) # for data_generator\n",
    "    data_generator = pm.Poisson(\"data_generator\", parameter)\n",
    "\n",
    "with model:\n",
    "    data_plus_one = data_generator+1\n",
    "\n",
    "\n"
   ]
  },
  {
   "cell_type": "code",
   "execution_count": 6,
   "metadata": {},
   "outputs": [
    {
     "ename": "AttributeError",
     "evalue": "'FreeRV' object has no attribute 'parents'",
     "output_type": "error",
     "traceback": [
      "\u001b[0;31m---------------------------------------------------------------------------\u001b[0m",
      "\u001b[0;31mAttributeError\u001b[0m                            Traceback (most recent call last)",
      "\u001b[0;32m/tmp/ipykernel_1109706/2979604886.py\u001b[0m in \u001b[0;36m<module>\u001b[0;34m\u001b[0m\n\u001b[1;32m      1\u001b[0m \u001b[0;32mwith\u001b[0m \u001b[0mmodel\u001b[0m\u001b[0;34m:\u001b[0m\u001b[0;34m\u001b[0m\u001b[0;34m\u001b[0m\u001b[0m\n\u001b[0;32m----> 2\u001b[0;31m     \u001b[0mprint\u001b[0m\u001b[0;34m(\u001b[0m\u001b[0mdata_generator\u001b[0m\u001b[0;34m.\u001b[0m\u001b[0mparents\u001b[0m\u001b[0;34m)\u001b[0m\u001b[0;34m\u001b[0m\u001b[0;34m\u001b[0m\u001b[0m\n\u001b[0m",
      "\u001b[0;31mAttributeError\u001b[0m: 'FreeRV' object has no attribute 'parents'"
     ]
    }
   ],
   "source": [
    "with model:\n",
    "    print(data_generator.parents)"
   ]
  },
  {
   "cell_type": "markdown",
   "metadata": {},
   "source": [
    "* pymc3는 책과 달라서 저자의 gitub notebook을 봐야한다. \n",
    "* 그래서 아예 pymc3 tutorial site부터 보기로 함. \n"
   ]
  }
 ],
 "metadata": {
  "interpreter": {
   "hash": "1b404ea9cc11fb42e02ae2837a6795607dec294b758acd70070f5a7ed62eaa6c"
  },
  "kernelspec": {
   "display_name": "Python 3.9.6 ('bayes')",
   "language": "python",
   "name": "python3"
  },
  "language_info": {
   "codemirror_mode": {
    "name": "ipython",
    "version": 3
   },
   "file_extension": ".py",
   "mimetype": "text/x-python",
   "name": "python",
   "nbconvert_exporter": "python",
   "pygments_lexer": "ipython3",
   "version": "3.9.6"
  },
  "orig_nbformat": 4
 },
 "nbformat": 4,
 "nbformat_minor": 2
}
