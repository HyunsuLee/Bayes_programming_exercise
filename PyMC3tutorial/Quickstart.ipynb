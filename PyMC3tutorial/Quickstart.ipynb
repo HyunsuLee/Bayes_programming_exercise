{
 "cells": [
  {
   "cell_type": "markdown",
   "metadata": {},
   "source": [
    "# Gerenal API quickstart\n",
    "* https://docs.pymc.io/en/v3/pymc-examples/examples/pymc3_howto/api_quickstart.html"
   ]
  },
  {
   "cell_type": "code",
   "execution_count": 1,
   "metadata": {},
   "outputs": [
    {
     "name": "stderr",
     "output_type": "stream",
     "text": [
      "WARNING (theano.tensor.blas): Using NumPy C-API based implementation for BLAS functions.\n"
     ]
    }
   ],
   "source": [
    "import warnings\n",
    "\n",
    "import arviz as az\n",
    "import matplotlib.pyplot as plt\n",
    "import numpy as np\n",
    "import pymc3 as pm\n",
    "import theano.tensor as tt\n",
    "\n",
    "warnings.simplefilter(action=\"ignore\", category=FutureWarning)"
   ]
  },
  {
   "cell_type": "code",
   "execution_count": 2,
   "metadata": {},
   "outputs": [
    {
     "name": "stdout",
     "output_type": "stream",
     "text": [
      "Running on PyMC3 v3.11.2\n",
      "Running on ArviZ v0.11.2\n"
     ]
    }
   ],
   "source": [
    "%config InlineBackend.figure_format = 'retina'\n",
    "az.style.use(\"arviz-darkgrid\")\n",
    "print(f\"Running on PyMC3 v{pm.__version__}\")\n",
    "print(f\"Running on ArviZ v{az.__version__}\")"
   ]
  },
  {
   "cell_type": "markdown",
   "metadata": {},
   "source": [
    "## 1. Model creation\n",
    "* PyMC3에서는 Model Class를 사용한다. 여기에 모든 랜덤변수의 참조가 들어가고, model 관련 logp계산과 gradients도 계산한다. with와 같이 사용한다."
   ]
  },
  {
   "cell_type": "code",
   "execution_count": 3,
   "metadata": {},
   "outputs": [],
   "source": [
    "with pm.Model() as model:\n",
    "    # Model definition\n",
    "    pass\n",
    "\n",
    "with pm.Model() as model:\n",
    "    mu = pm.Normal(\"mu\", mu=0, sigma=1)\n",
    "    obs = pm.Normal(\"obs\", mu=mu, sigma=1, observed=np.random.randn(100))"
   ]
  },
  {
   "cell_type": "code",
   "execution_count": 4,
   "metadata": {},
   "outputs": [
    {
     "data": {
      "text/plain": [
       "[mu ~ Normal, obs ~ Normal]"
      ]
     },
     "execution_count": 4,
     "metadata": {},
     "output_type": "execute_result"
    }
   ],
   "source": [
    "model.basic_RVs # see above for reference Random Variables"
   ]
  },
  {
   "cell_type": "code",
   "execution_count": 5,
   "metadata": {},
   "outputs": [
    {
     "data": {
      "text/plain": [
       "[mu ~ Normal]"
      ]
     },
     "execution_count": 5,
     "metadata": {},
     "output_type": "execute_result"
    }
   ],
   "source": [
    "model.free_RVs"
   ]
  },
  {
   "cell_type": "code",
   "execution_count": 6,
   "metadata": {},
   "outputs": [
    {
     "data": {
      "text/plain": [
       "[obs ~ Normal]"
      ]
     },
     "execution_count": 6,
     "metadata": {},
     "output_type": "execute_result"
    }
   ],
   "source": [
    "model.observed_RVs"
   ]
  },
  {
   "cell_type": "code",
   "execution_count": 7,
   "metadata": {},
   "outputs": [
    {
     "data": {
      "text/plain": [
       "array(-151.9898758)"
      ]
     },
     "execution_count": 7,
     "metadata": {},
     "output_type": "execute_result"
    }
   ],
   "source": [
    "model.logp({\"mu\": 0})"
   ]
  },
  {
   "cell_type": "code",
   "execution_count": 8,
   "metadata": {},
   "outputs": [
    {
     "name": "stdout",
     "output_type": "stream",
     "text": [
      "52.7 ms ± 1.97 ms per loop (mean ± std. dev. of 7 runs, 10 loops each)\n",
      "15.2 µs ± 375 ns per loop (mean ± std. dev. of 7 runs, 100000 loops each)\n"
     ]
    }
   ],
   "source": [
    "%timeit model.logp({mu: 0.1})\n",
    "logp = model.logp\n",
    "%timeit logp({mu: 0.1})"
   ]
  },
  {
   "cell_type": "markdown",
   "metadata": {},
   "source": [
    "* logp는 static하지 않다. 그래서 cache하는데 오래 걸리는데, 만약 logp=model.logp로 static하게 만들어 버리면 빨라진다."
   ]
  },
  {
   "cell_type": "markdown",
   "metadata": {},
   "source": [
    "## 2. Probability Distributions\n",
    "* 모든 확률적 프로그램은 관찰된 랜덤변수, 관찰하지 않은 랜덤변수를 구성한다. 관찰된 RVs는 likelihood 분포로 정의되고, 관찰하지 않은 RVs는 선험분포로 정의된다. PyMC3에서는 main module에서 확률분포를 사용할 수 있다. "
   ]
  },
  {
   "cell_type": "code",
   "execution_count": 9,
   "metadata": {},
   "outputs": [
    {
     "name": "stdout",
     "output_type": "stream",
     "text": [
      "Help on class Normal in module pymc3.distributions.continuous:\n",
      "\n",
      "class Normal(pymc3.distributions.distribution.Continuous)\n",
      " |  Normal(name, *args, **kwargs)\n",
      " |  \n",
      " |  Univariate normal log-likelihood.\n",
      " |  \n",
      " |  The pdf of this distribution is\n",
      " |  \n",
      " |  .. math::\n",
      " |  \n",
      " |     f(x \\mid \\mu, \\tau) =\n",
      " |         \\sqrt{\\frac{\\tau}{2\\pi}}\n",
      " |         \\exp\\left\\{ -\\frac{\\tau}{2} (x-\\mu)^2 \\right\\}\n",
      " |  \n",
      " |  Normal distribution can be parameterized either in terms of precision\n",
      " |  or standard deviation. The link between the two parametrizations is\n",
      " |  given by\n",
      " |  \n",
      " |  .. math::\n",
      " |  \n",
      " |     \\tau = \\dfrac{1}{\\sigma^2}\n",
      " |  \n",
      " |  .. plot::\n",
      " |  \n",
      " |      import matplotlib.pyplot as plt\n",
      " |      import numpy as np\n",
      " |      import scipy.stats as st\n",
      " |      plt.style.use('seaborn-darkgrid')\n",
      " |      x = np.linspace(-5, 5, 1000)\n",
      " |      mus = [0., 0., 0., -2.]\n",
      " |      sigmas = [0.4, 1., 2., 0.4]\n",
      " |      for mu, sigma in zip(mus, sigmas):\n",
      " |          pdf = st.norm.pdf(x, mu, sigma)\n",
      " |          plt.plot(x, pdf, label=r'$\\mu$ = {}, $\\sigma$ = {}'.format(mu, sigma))\n",
      " |      plt.xlabel('x', fontsize=12)\n",
      " |      plt.ylabel('f(x)', fontsize=12)\n",
      " |      plt.legend(loc=1)\n",
      " |      plt.show()\n",
      " |  \n",
      " |  ========  ==========================================\n",
      " |  Support   :math:`x \\in \\mathbb{R}`\n",
      " |  Mean      :math:`\\mu`\n",
      " |  Variance  :math:`\\dfrac{1}{\\tau}` or :math:`\\sigma^2`\n",
      " |  ========  ==========================================\n",
      " |  \n",
      " |  Parameters\n",
      " |  ----------\n",
      " |  mu: float\n",
      " |      Mean.\n",
      " |  sigma: float\n",
      " |      Standard deviation (sigma > 0) (only required if tau is not specified).\n",
      " |  tau: float\n",
      " |      Precision (tau > 0) (only required if sigma is not specified).\n",
      " |  \n",
      " |  Examples\n",
      " |  --------\n",
      " |  .. code-block:: python\n",
      " |  \n",
      " |      with pm.Model():\n",
      " |          x = pm.Normal('x', mu=0, sigma=10)\n",
      " |  \n",
      " |      with pm.Model():\n",
      " |          x = pm.Normal('x', mu=0, tau=1/23)\n",
      " |  \n",
      " |  Method resolution order:\n",
      " |      Normal\n",
      " |      pymc3.distributions.distribution.Continuous\n",
      " |      pymc3.distributions.distribution.Distribution\n",
      " |      builtins.object\n",
      " |  \n",
      " |  Methods defined here:\n",
      " |  \n",
      " |  __init__(self, mu=0, sigma=None, tau=None, sd=None, **kwargs)\n",
      " |      Initialize self.  See help(type(self)) for accurate signature.\n",
      " |  \n",
      " |  logcdf(self, value)\n",
      " |      Compute the log of the cumulative distribution function for Normal distribution\n",
      " |      at the specified value.\n",
      " |      \n",
      " |      Parameters\n",
      " |      ----------\n",
      " |      value: numeric or np.ndarray or theano.tensor\n",
      " |          Value(s) for which log CDF is calculated. If the log CDF for multiple\n",
      " |          values are desired the values must be provided in a numpy array or theano tensor.\n",
      " |      \n",
      " |      Returns\n",
      " |      -------\n",
      " |      TensorVariable\n",
      " |  \n",
      " |  logp(self, value)\n",
      " |      Calculate log-probability of Normal distribution at specified value.\n",
      " |      \n",
      " |      Parameters\n",
      " |      ----------\n",
      " |      value: numeric\n",
      " |          Value(s) for which log-probability is calculated. If the log probabilities for multiple\n",
      " |          values are desired the values must be provided in a numpy array or theano tensor\n",
      " |      \n",
      " |      Returns\n",
      " |      -------\n",
      " |      TensorVariable\n",
      " |  \n",
      " |  random(self, point=None, size=None)\n",
      " |      Draw random values from Normal distribution.\n",
      " |      \n",
      " |      Parameters\n",
      " |      ----------\n",
      " |      point: dict, optional\n",
      " |          Dict of variable values on which random values are to be\n",
      " |          conditioned (uses default point if not specified).\n",
      " |      size: int, optional\n",
      " |          Desired size of random sample (returns one sample if not\n",
      " |          specified).\n",
      " |      \n",
      " |      Returns\n",
      " |      -------\n",
      " |      array\n",
      " |  \n",
      " |  ----------------------------------------------------------------------\n",
      " |  Data and other attributes defined here:\n",
      " |  \n",
      " |  data = array([ 3.48665271e-01,  5.57495355e-02,  2.1614....06560220e-0...\n",
      " |  \n",
      " |  ----------------------------------------------------------------------\n",
      " |  Methods inherited from pymc3.distributions.distribution.Distribution:\n",
      " |  \n",
      " |  __getnewargs__(self)\n",
      " |  \n",
      " |  __latex__ = _repr_latex_(self, *, formatting='latex_with_params', **kwargs)\n",
      " |  \n",
      " |  __str__(self, **kwargs)\n",
      " |      Return str(self).\n",
      " |  \n",
      " |  default(self)\n",
      " |  \n",
      " |  get_test_val(self, val, defaults)\n",
      " |  \n",
      " |  getattr_value(self, val)\n",
      " |  \n",
      " |  logp_nojac(self, *args, **kwargs)\n",
      " |      Return the logp, but do not include a jacobian term for transforms.\n",
      " |      \n",
      " |      If we use different parametrizations for the same distribution, we\n",
      " |      need to add the determinant of the jacobian of the transformation\n",
      " |      to make sure the densities still describe the same distribution.\n",
      " |      However, MAP estimates are not invariant with respect to the\n",
      " |      parametrization, we need to exclude the jacobian terms in this case.\n",
      " |      \n",
      " |      This function should be overwritten in base classes for transformed\n",
      " |      distributions.\n",
      " |  \n",
      " |  logp_sum(self, *args, **kwargs)\n",
      " |      Return the sum of the logp values for the given observations.\n",
      " |      \n",
      " |      Subclasses can use this to improve the speed of logp evaluations\n",
      " |      if only the sum of the logp values is needed.\n",
      " |  \n",
      " |  ----------------------------------------------------------------------\n",
      " |  Class methods inherited from pymc3.distributions.distribution.Distribution:\n",
      " |  \n",
      " |  dist(*args, **kwargs) from builtins.type\n",
      " |  \n",
      " |  ----------------------------------------------------------------------\n",
      " |  Static methods inherited from pymc3.distributions.distribution.Distribution:\n",
      " |  \n",
      " |  __new__(cls, name, *args, **kwargs)\n",
      " |      Create and return a new object.  See help(type) for accurate signature.\n",
      " |  \n",
      " |  ----------------------------------------------------------------------\n",
      " |  Data descriptors inherited from pymc3.distributions.distribution.Distribution:\n",
      " |  \n",
      " |  __dict__\n",
      " |      dictionary for instance variables (if defined)\n",
      " |  \n",
      " |  __weakref__\n",
      " |      list of weak references to the object (if defined)\n",
      "\n"
     ]
    }
   ],
   "source": [
    "help(pm.Normal) # example of probability distributions and documentation"
   ]
  },
  {
   "cell_type": "code",
   "execution_count": 15,
   "metadata": {},
   "outputs": [
    {
     "name": "stdout",
     "output_type": "stream",
     "text": [
      "['AR', 'AR1', 'AsymmetricLaplace', 'BART', 'Bernoulli', 'Beta', 'BetaBinomial', 'Binomial', 'Bound', 'Categorical', 'Cauchy', 'ChiSquared', 'Constant', 'ConstantDist', 'Continuous', 'DensityDist', 'Dirichlet', 'DirichletMultinomial', 'Discrete', 'DiscreteUniform', 'DiscreteWeibull', 'Distribution', 'ExGaussian', 'Exponential', 'Flat', 'GARCH11', 'Gamma', 'GaussianRandomWalk', 'Geometric', 'Gumbel', 'HalfCauchy', 'HalfFlat', 'HalfNormal', 'HalfStudentT', 'HyperGeometric', 'Interpolated', 'InverseGamma', 'KroneckerNormal', 'Kumaraswamy', 'LKJCholeskyCov', 'LKJCorr', 'Laplace', 'Logistic', 'LogitNormal', 'Lognormal', 'MatrixNormal', 'Mixture', 'MixtureSameFamily', 'Moyal', 'Multinomial', 'MvGaussianRandomWalk', 'MvNormal', 'MvStudentT', 'MvStudentTRandomWalk', 'NegativeBinomial', 'NoDistribution', 'Normal', 'NormalMixture', 'OrderedLogistic', 'OrderedProbit', 'Pareto', 'Poisson', 'Rice', 'Simulator', 'SkewNormal', 'StudentT', 'TensorType', 'Triangular', 'TruncatedNormal', 'Uniform', 'VonMises', 'Wald', 'Weibull', 'Wishart', 'WishartBartlett', 'ZeroInflatedBinomial', 'ZeroInflatedNegativeBinomial', 'ZeroInflatedPoisson', '__all__', '__builtins__', '__cached__', '__doc__', '__file__', '__loader__', '__name__', '__package__', '__path__', '__spec__', 'bart', 'bound', 'continuous', 'discrete', 'dist_math', 'distribution', 'draw_values', 'fast_sample_posterior_predictive', 'generate_samples', 'mixture', 'multivariate', 'posterior_predictive', 'shape_utils', 'simulator', 'special', 'timeseries', 'transforms', 'tree']\n",
      "['AsymmetricLaplace', 'Beta', 'BoundedContinuous', 'Cauchy', 'ChiSquared', 'Continuous', 'ExGaussian', 'Exponential', 'Flat', 'Gamma', 'Gumbel', 'HalfCauchy', 'HalfFlat', 'HalfNormal', 'HalfStudentT', 'Interpolated', 'InterpolatedUnivariateSpline', 'InverseGamma', 'Kumaraswamy', 'Laplace', 'Logistic', 'LogitNormal', 'Lognormal', 'Moyal', 'Normal', 'Pareto', 'PositiveContinuous', 'Rice', 'SkewNormal', 'SplineWrapper', 'StudentT', 'Triangular', 'TruncatedNormal', 'Uniform', 'UnitContinuous', 'VonMises', 'Wald', 'Weibull', '__all__', '__builtins__', '__cached__', '__doc__', '__file__', '__loader__', '__name__', '__package__', '__spec__', 'assert_negative_support', 'betaln', 'bound', 'clipped_beta_rvs', 'draw_values', 'expit', 'floatX', 'gammaln', 'generate_samples', 'get_tau_sigma', 'i0e', 'incomplete_beta', 'invlogit', 'log1mexp', 'log1pexp', 'log_i0', 'log_normal', 'logdiffexp', 'logit', 'logpow', 'normal_lccdf', 'normal_lcdf', 'np', 'stats', 'transforms', 'tt', 'warnings', 'zvalue']\n",
      "['Bernoulli', 'BetaBinomial', 'Binomial', 'Categorical', 'Constant', 'ConstantDist', 'Discrete', 'DiscreteUniform', 'DiscreteWeibull', 'Geometric', 'HyperGeometric', 'NegativeBinomial', 'OrderedLogistic', 'OrderedProbit', 'Poisson', 'ZeroInflatedBinomial', 'ZeroInflatedNegativeBinomial', 'ZeroInflatedPoisson', '__all__', '__builtins__', '__cached__', '__doc__', '__file__', '__loader__', '__name__', '__package__', '__spec__', 'betaln', 'binomln', 'bound', 'broadcast_distribution_samples', 'draw_values', 'factln', 'floatX', 'generate_samples', 'incomplete_beta', 'intX', 'log1mexp', 'log1pexp', 'log_diff_normal_cdf', 'logaddexp', 'logit', 'logpow', 'logsumexp', 'normal_lccdf', 'normal_lcdf', 'np', 'random_choice', 'sigmoid', 'stats', 'take_along_axis', 'tround', 'tt', 'warnings']\n",
      "['AR', 'AR1', 'EulerMaruyama', 'Flat', 'GARCH11', 'GaussianRandomWalk', 'MvGaussianRandomWalk', 'MvStudentTRandomWalk', 'Normal', '__all__', '__builtins__', '__cached__', '__doc__', '__file__', '__loader__', '__name__', '__package__', '__spec__', 'distribution', 'get_tau_sigma', 'multivariate', 'np', 'scan', 'stats', 'to_tuple', 'tt']\n",
      "['Discrete', 'Distribution', 'Iterable', 'Mixture', 'MixtureSameFamily', 'Normal', 'NormalMixture', '_DrawValuesContext', '_DrawValuesContextBlocker', '__all__', '__builtins__', '__cached__', '__doc__', '__file__', '__loader__', '__name__', '__package__', '__spec__', '_conversion_map', 'all_discrete', 'bound', 'broadcast_distribution_samples', 'draw_values', 'generate_samples', 'get_broadcastable_dist_samples', 'get_tau_sigma', 'logsumexp', 'np', 'random_choice', 'take_along_axis', 'theano', 'to_tuple', 'tt']\n"
     ]
    }
   ],
   "source": [
    "print(dir(pm.distributions))\n",
    "print(dir(pm.distributions.continuous))\n",
    "print(dir(pm.distributions.discrete))\n",
    "print(dir(pm.distributions.timeseries))\n",
    "print(dir(pm.distributions.mixture))"
   ]
  },
  {
   "cell_type": "markdown",
   "metadata": {},
   "source": [
    "* 위 output에서 볼수 있듯, PyMC3의 probability distribution 구조는 다음과 같다.\n",
    "* pymc3.distributions - continuous - discrete - timeseries - mixture"
   ]
  },
  {
   "cell_type": "markdown",
   "metadata": {},
   "source": [
    "### Unobserved Random Variables\n",
    "* 모든 관찰하지 않은 RV는 arg로 name(str)과 관련 parameter를 받는다. "
   ]
  },
  {
   "cell_type": "code",
   "execution_count": 17,
   "metadata": {},
   "outputs": [
    {
     "data": {
      "text/plain": [
       "array(-0.91893853)"
      ]
     },
     "execution_count": 17,
     "metadata": {},
     "output_type": "execute_result"
    }
   ],
   "source": [
    "with pm.Model():\n",
    "    x = pm.Normal(\"x\", mu=0, sigma=1)\n",
    "\n",
    "x.logp({\"x\": 0})"
   ]
  },
  {
   "cell_type": "markdown",
   "metadata": {},
   "source": [
    "### Observed Random Variables\n",
    "* 관찰되는 RV는 위의 관찰하지 않은 RV와 arg를 비슷하게 받지만, 추가적으로 observed라는 arg를 받아야 한다.\n",
    "* observed에는 list, numpy.ndarray, theano, pandas dataframe를 줄 수 있다. "
   ]
  },
  {
   "cell_type": "code",
   "execution_count": 18,
   "metadata": {},
   "outputs": [],
   "source": [
    "with pm.Model():\n",
    "    obs = pm.Normal(\"x\", mu=0, sigma=1, observed=np.random.randn(100))"
   ]
  },
  {
   "cell_type": "markdown",
   "metadata": {},
   "source": [
    "### Deterministic transforms\n",
    "* PyMC3는 RV를 가지고 algebra를 할수있도록 지원한다."
   ]
  },
  {
   "cell_type": "code",
   "execution_count": 19,
   "metadata": {},
   "outputs": [],
   "source": [
    "with pm.Model():\n",
    "    x = pm.Normal(\"x\", mu=0, sigma=1)\n",
    "    y = pm.Gamma(\"y\", alpha=1, beta=1)\n",
    "    plus_2 = x + 2\n",
    "    summed = x + y\n",
    "    squared = x ** 2\n",
    "    sined = pm.math.sin(x)"
   ]
  },
  {
   "cell_type": "markdown",
   "metadata": {},
   "source": [
    "* 자연스런게 대수 계산이 되긴 하지만, 저장이 자동적으로 되는 것은 아니다. 이것 변환된(대수 계산한) 변수들을 계속 쓰고 싶다면, pm.Deterministic을 사용해야 한다. "
   ]
  },
  {
   "cell_type": "code",
   "execution_count": 20,
   "metadata": {},
   "outputs": [],
   "source": [
    "with pm.Model():\n",
    "    x = pm.Normal(\"x\", mu=0, sigma=1)\n",
    "    plus_2 = pm.Deterministic(\"x plus 2\", x + 2)"
   ]
  },
  {
   "cell_type": "markdown",
   "metadata": {},
   "source": [
    "### Automatic transforms of bounded RVs\n",
    "* PyMC3는 bounded RV는 unbounded로 자동적으로 변환해준다. "
   ]
  },
  {
   "cell_type": "code",
   "execution_count": 21,
   "metadata": {},
   "outputs": [
    {
     "data": {
      "text/plain": [
       "[x_interval__ ~ TransformedDistribution]"
      ]
     },
     "execution_count": 21,
     "metadata": {},
     "output_type": "execute_result"
    }
   ],
   "source": [
    "with pm.Model() as model:\n",
    "    x = pm.Uniform(\"x\", lower = 0, upper = 1)\n",
    "\n",
    "model.free_RVs"
   ]
  },
  {
   "cell_type": "markdown",
   "metadata": {},
   "source": [
    "* \"x_interval__\"은 x가 (-inf, +inf) 사이의 parameter 값을 받을 수 있도록 자동적 변환되었음을 말한다. upper, lower bound에 대해서 LogOdds 변환이 적용되었다. 이렇게 변환된 공간에서 sample이 더 수월하다. PyMC3는 물론 non-transformed, bounded parameter도 추적하며, 이것은 deterministics로 되어있다."
   ]
  },
  {
   "cell_type": "code",
   "execution_count": 22,
   "metadata": {},
   "outputs": [
    {
     "data": {
      "text/plain": [
       "[x ~ Uniform]"
      ]
     },
     "execution_count": 22,
     "metadata": {},
     "output_type": "execute_result"
    }
   ],
   "source": [
    "model.deterministics"
   ]
  },
  {
   "cell_type": "markdown",
   "metadata": {},
   "source": [
    "* PyMC3가 결과를 보여줄 때는 변환된 parameter는 숨김 처리한다. include_transformed=True라고 하면 볼 수 있다. \n",
    "* 반대로 transform자체를 끌 수도 있다. "
   ]
  },
  {
   "cell_type": "code",
   "execution_count": 25,
   "metadata": {},
   "outputs": [
    {
     "data": {
      "text/plain": [
       "[x ~ Uniform]"
      ]
     },
     "execution_count": 25,
     "metadata": {},
     "output_type": "execute_result"
    }
   ],
   "source": [
    "with pm.Model() as model:\n",
    "    x = pm.Uniform(\"x\", lower = 0, upper = 1, transform=None)\n",
    "\n",
    "model.free_RVs"
   ]
  },
  {
   "cell_type": "markdown",
   "metadata": {},
   "source": [
    "* 또는 transform형태를 지정해줄수도 있다. "
   ]
  },
  {
   "cell_type": "code",
   "execution_count": 26,
   "metadata": {},
   "outputs": [
    {
     "name": "stdout",
     "output_type": "stream",
     "text": [
      "The default transformation of x1 is: log\n",
      "The user specified transformation of x2 is: log_exp_m1\n"
     ]
    }
   ],
   "source": [
    "import pymc3.distributions.transforms as tr\n",
    "\n",
    "with pm.Model() as model:\n",
    "    # default log transformation\n",
    "    x1 = pm.Gamma(\"x1\", alpha=1, beta=1)\n",
    "    # log exp transform\n",
    "    x2 = pm.Gamma(\"x2\", alpha=1, beta=1, transform=tr.log_exp_m1)\n",
    "\n",
    "print(\"The default transformation of x1 is: \" + x1.transformation.name)\n",
    "print(\"The user specified transformation of x2 is: \" + x2.transformation.name)"
   ]
  },
  {
   "cell_type": "markdown",
   "metadata": {},
   "source": [
    "### Transformed distributions and changes of variables\n",
    "* PyMC3는 한 분포에서 다른 분포로 변환하는 것을 명시적으로 제공하지 않는다. 하지만, 변환 분포를 만들 수 있다. kwarg를 줘서. 다음 Normal distribution을 LogNormal로 변환하는 다음 예시를 보자.\n",
    "\n",
    "$$ log(y) \\sim Normal(\\mu, \\sigma) $$\n"
   ]
  },
  {
   "cell_type": "code",
   "execution_count": 27,
   "metadata": {},
   "outputs": [
    {
     "data": {
      "text/plain": [
       "<matplotlib.legend.Legend at 0x7f01965169d0>"
      ]
     },
     "execution_count": 27,
     "metadata": {},
     "output_type": "execute_result"
    },
    {
     "data": {
      "image/png": "[encoded data removed]",
      "text/plain": [
       "<Figure size 500x300 with 1 Axes>"
      ]
     },
     "metadata": {
      "image/png": {
       "height": 311,
       "width": 511
      }
     },
     "output_type": "display_data"
    }
   ],
   "source": [
    "class Exp(tr.ElemwiseTransform):\n",
    "    name = \"exp\"\n",
    "\n",
    "    def backward(self, x):\n",
    "        return tt.log(x)\n",
    "\n",
    "    def forward(self, x):\n",
    "        return tt.exp(x)\n",
    "\n",
    "    def jacobian_det(self, x):\n",
    "        return -tt.log(x)\n",
    "\n",
    "with pm.Model() as model:\n",
    "    x1 = pm.Normal(\"x1\", 0.0, 1.0, transform=Exp())\n",
    "    x2 = pm.Lognormal(\"x2\", 0.0, 1.0)\n",
    "\n",
    "lognorm1 = model.named_vars[\"x1_exp__\"]\n",
    "lognorm2 = model.named_vars[\"x2\"]\n",
    "\n",
    "_, ax = plt.subplots(1,1, figsize=(5,3))\n",
    "x = np.linspace(0.0, 10.0, 100)\n",
    "\n",
    "ax.plot(\n",
    "    x,\n",
    "    np.exp(lognorm1.distribution.logp(x).eval()),\n",
    "    \"--\",\n",
    "    alpha = 0.5,\n",
    "    label = \"log(y) ~ Normal(0, 1)\"\n",
    ")\n",
    "ax.plot(\n",
    "    x,\n",
    "    np.exp(lognorm2.distribution.logp(x).eval()),\n",
    "    alpha = 0.5,\n",
    "    label = \"y ~ Lognormal(0, 1)\"\n",
    ")\n",
    "plt.legend()"
   ]
  },
  {
   "cell_type": "code",
   "execution_count": null,
   "metadata": {},
   "outputs": [],
   "source": [
    "# TODO restart from 23st cells in the above link"
   ]
  },
  {
   "cell_type": "code",
   "execution_count": null,
   "metadata": {},
   "outputs": [],
   "source": []
  }
 ],
 "metadata": {
  "interpreter": {
   "hash": "1b404ea9cc11fb42e02ae2837a6795607dec294b758acd70070f5a7ed62eaa6c"
  },
  "kernelspec": {
   "display_name": "Python 3.9.6 ('bayes')",
   "language": "python",
   "name": "python3"
  },
  "language_info": {
   "codemirror_mode": {
    "name": "ipython",
    "version": 3
   },
   "file_extension": ".py",
   "mimetype": "text/x-python",
   "name": "python",
   "nbconvert_exporter": "python",
   "pygments_lexer": "ipython3",
   "version": "3.9.6"
  },
  "orig_nbformat": 4
 },
 "nbformat": 4,
 "nbformat_minor": 2
}
